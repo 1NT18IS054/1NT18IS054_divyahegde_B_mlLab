{
 "cells": [
  {
   "cell_type": "code",
   "execution_count": 23,
   "metadata": {},
   "outputs": [],
   "source": [
    "clust1 = []\n",
    "clust2 = []\n",
    "clust3 = []\n",
    "x1,y1 = [6.2,3.2]\n",
    "x2,y2 = [6.6,3.7]\n",
    "x3,y3 = [6.5,3.0]\n",
    "data = [[5.9,3.2],[4.6,2.9],[6.2,2.8],[4.7,3.2],[5.5,4.2],[5.0,3.0],[4.9,3.1],[6.7,3.1],[5.1,3.8],[6.0,3.0]]"
   ]
  },
  {
   "cell_type": "code",
   "execution_count": 24,
   "metadata": {},
   "outputs": [],
   "source": [
    "def euclid_dist(x,y):\n",
    "    d1 = ((x-x1)**2+(y-y1)**2)**(1/2)\n",
    "    d2 = ((x-x2)**2+(y-y2)**2)**(1/2)\n",
    "    d3 = ((x-x3)**2+(y-y3)**2)**(1/2)\n",
    "    minm = min(d1,d2,d3)\n",
    "    if minm == d1:\n",
    "        clust1.append([x,y])\n",
    "    elif minm == d2:\n",
    "        clust2.append([x,y])\n",
    "    else:\n",
    "        clust3.append([x,y])\n",
    "        "
   ]
  },
  {
   "cell_type": "code",
   "execution_count": 25,
   "metadata": {},
   "outputs": [
    {
     "name": "stdout",
     "output_type": "stream",
     "text": [
      "[[5.9, 3.2], [4.6, 2.9], [4.7, 3.2], [5.0, 3.0], [4.9, 3.1], [5.1, 3.8], [6.0, 3.0]]\n",
      "[[5.5, 4.2]]\n",
      "[[6.2, 2.8], [6.7, 3.1]]\n"
     ]
    }
   ],
   "source": [
    "for i,j in data:\n",
    "    euclid_dist(i,j)\n",
    "print(clust1)\n",
    "print(clust2)\n",
    "print(clust3)"
   ]
  },
  {
   "cell_type": "code",
   "execution_count": 26,
   "metadata": {},
   "outputs": [
    {
     "name": "stdout",
     "output_type": "stream",
     "text": [
      "5.17 3.17\n"
     ]
    }
   ],
   "source": [
    "sumi = 0\n",
    "sumj = 0\n",
    "for i,j in clust1:\n",
    "    sumi+=i\n",
    "    sumj+=j\n",
    "nx1 = round(sumi/len(clust1),2)\n",
    "ny1 = round(sumj/len(clust1),2)\n",
    "print(nx1,ny1)"
   ]
  },
  {
   "cell_type": "code",
   "execution_count": 27,
   "metadata": {},
   "outputs": [
    {
     "name": "stdout",
     "output_type": "stream",
     "text": [
      "[[4.6, 2.9], [5.0, 3.0], [5.1, 3.8]]\n",
      "[[5.9, 3.2], [4.7, 3.2], [4.9, 3.1], [6.0, 3.0]]\n"
     ]
    }
   ],
   "source": [
    "clust4 = []\n",
    "def new_eucl_distance(a,b):\n",
    "    ndist1 = ((a-nx1)**2+(b-ny1)**2)**(1/2)\n",
    "    if ndist1 < ((a-x1)**2+(b-y1)**2)**(1/2):\n",
    "            clust4.append([a,b])\n",
    "            clust1.remove([a,b])\n",
    "    else:\n",
    "        pass\n",
    "for i,j in clust1:\n",
    "        new_eucl_distance(i,j)\n",
    "print(clust4)\n",
    "print(clust1)"
   ]
  },
  {
   "cell_type": "code",
   "execution_count": 28,
   "metadata": {},
   "outputs": [
    {
     "name": "stdout",
     "output_type": "stream",
     "text": [
      "3.67 2.42\n"
     ]
    }
   ],
   "source": [
    "sum1 = 0\n",
    "sum2 = 0\n",
    "for i,j in clust4:\n",
    "    sum1+=i\n",
    "    sum2+=j\n",
    "nx1 = round(sum1/len(clust1),2)\n",
    "ny1 = round(sum2/len(clust1),2)\n",
    "print(nx1,ny1)"
   ]
  },
  {
   "cell_type": "code",
   "execution_count": null,
   "metadata": {},
   "outputs": [],
   "source": []
  }
 ],
 "metadata": {
  "kernelspec": {
   "display_name": "Python 3",
   "language": "python",
   "name": "python3"
  },
  "language_info": {
   "codemirror_mode": {
    "name": "ipython",
    "version": 3
   },
   "file_extension": ".py",
   "mimetype": "text/x-python",
   "name": "python",
   "nbconvert_exporter": "python",
   "pygments_lexer": "ipython3",
   "version": "3.7.3"
  }
 },
 "nbformat": 4,
 "nbformat_minor": 2
}
