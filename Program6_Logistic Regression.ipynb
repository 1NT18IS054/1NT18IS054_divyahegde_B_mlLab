{
 "cells": [
  {
   "cell_type": "code",
   "execution_count": 23,
   "id": "222b1e46",
   "metadata": {},
   "outputs": [],
   "source": [
    "import pandas as pd\n",
    "import numpy as np\n",
    "df = pd.read_csv(\"Student-University.csv\", header = None)\n"
   ]
  },
  {
   "cell_type": "code",
   "execution_count": 24,
   "id": "119a5208",
   "metadata": {},
   "outputs": [
    {
     "data": {
      "text/html": [
       "<div>\n",
       "<style scoped>\n",
       "    .dataframe tbody tr th:only-of-type {\n",
       "        vertical-align: middle;\n",
       "    }\n",
       "\n",
       "    .dataframe tbody tr th {\n",
       "        vertical-align: top;\n",
       "    }\n",
       "\n",
       "    .dataframe thead th {\n",
       "        text-align: right;\n",
       "    }\n",
       "</style>\n",
       "<table border=\"1\" class=\"dataframe\">\n",
       "  <thead>\n",
       "    <tr style=\"text-align: right;\">\n",
       "      <th></th>\n",
       "      <th>0</th>\n",
       "      <th>1</th>\n",
       "      <th>2</th>\n",
       "    </tr>\n",
       "  </thead>\n",
       "  <tbody>\n",
       "    <tr>\n",
       "      <th>0</th>\n",
       "      <td>34.623660</td>\n",
       "      <td>78.024693</td>\n",
       "      <td>0</td>\n",
       "    </tr>\n",
       "    <tr>\n",
       "      <th>1</th>\n",
       "      <td>30.286711</td>\n",
       "      <td>43.894998</td>\n",
       "      <td>0</td>\n",
       "    </tr>\n",
       "    <tr>\n",
       "      <th>2</th>\n",
       "      <td>35.847409</td>\n",
       "      <td>72.902198</td>\n",
       "      <td>0</td>\n",
       "    </tr>\n",
       "    <tr>\n",
       "      <th>3</th>\n",
       "      <td>60.182599</td>\n",
       "      <td>86.308552</td>\n",
       "      <td>1</td>\n",
       "    </tr>\n",
       "    <tr>\n",
       "      <th>4</th>\n",
       "      <td>79.032736</td>\n",
       "      <td>75.344376</td>\n",
       "      <td>1</td>\n",
       "    </tr>\n",
       "  </tbody>\n",
       "</table>\n",
       "</div>"
      ],
      "text/plain": [
       "           0          1  2\n",
       "0  34.623660  78.024693  0\n",
       "1  30.286711  43.894998  0\n",
       "2  35.847409  72.902198  0\n",
       "3  60.182599  86.308552  1\n",
       "4  79.032736  75.344376  1"
      ]
     },
     "execution_count": 24,
     "metadata": {},
     "output_type": "execute_result"
    }
   ],
   "source": [
    "df.head()"
   ]
  },
  {
   "cell_type": "code",
   "execution_count": 25,
   "id": "d82dcee5",
   "metadata": {},
   "outputs": [
    {
     "name": "stdout",
     "output_type": "stream",
     "text": [
      "           0          1\n",
      "0  34.623660  78.024693\n",
      "1  30.286711  43.894998\n",
      "2  35.847409  72.902198\n",
      "3  60.182599  86.308552\n",
      "4  79.032736  75.344376\n"
     ]
    }
   ],
   "source": [
    "x = df.iloc[:,0:2]\n",
    "y = list(df[2])\n",
    "print(x.head())"
   ]
  },
  {
   "cell_type": "code",
   "execution_count": 26,
   "id": "1f7bade0",
   "metadata": {},
   "outputs": [
    {
     "name": "stdout",
     "output_type": "stream",
     "text": [
      "[0, 0, 0, 1, 1, 0, 1, 1, 1, 1, 0, 0, 1, 1, 0, 1, 1, 0, 1, 1, 0, 1, 0, 0, 1, 1, 1, 0, 0, 0, 1, 1, 0, 1, 0, 0, 0, 1, 0, 0, 1, 0, 1, 0, 0, 0, 1, 1, 1, 1, 1, 1, 1, 0, 0, 0, 1, 0, 1, 1, 1, 0, 0, 0, 0, 0, 1, 0, 1, 1, 0, 1, 1, 1, 1, 1, 1, 1, 0, 0, 1, 1, 1, 1, 1, 1, 0, 1, 1, 0, 1, 1, 0, 1, 1, 1, 1, 1, 1, 1]\n"
     ]
    }
   ],
   "source": [
    "print(y)"
   ]
  },
  {
   "cell_type": "code",
   "execution_count": 27,
   "id": "55573180",
   "metadata": {},
   "outputs": [],
   "source": [
    "x[0] = (x[0]-x[0].min())/(x[0].max()-x[0].min())\n",
    "x[1] = (x[1]-x[1].min())/(x[1].max()-x[1].min())"
   ]
  },
  {
   "cell_type": "code",
   "execution_count": 28,
   "id": "31d5588f",
   "metadata": {},
   "outputs": [
    {
     "name": "stdout",
     "output_type": "stream",
     "text": [
      "          0         1\n",
      "0  0.065428  0.694655\n",
      "1  0.003266  0.194705\n",
      "2  0.082968  0.619618\n",
      "3  0.431764  0.816001\n",
      "4  0.701943  0.655392\n"
     ]
    }
   ],
   "source": [
    "print(x.head())"
   ]
  },
  {
   "cell_type": "code",
   "execution_count": 29,
   "id": "300fd41a",
   "metadata": {},
   "outputs": [],
   "source": [
    "from sklearn.model_selection import train_test_split\n",
    "xtrain, xtest, ytrain, ytest = train_test_split(x,y,test_size = 0.2, random_state = 42)"
   ]
  },
  {
   "cell_type": "code",
   "execution_count": 30,
   "id": "e42ac700",
   "metadata": {},
   "outputs": [],
   "source": [
    "x1 = list(xtrain[0])\n",
    "x2 = list(xtrain[1])\n",
    "x1test = list(xtest[0])\n",
    "x2test = list(xtest[1] )\n"
   ]
  },
  {
   "cell_type": "code",
   "execution_count": 47,
   "id": "f65e9b86",
   "metadata": {},
   "outputs": [],
   "source": [
    "b = [0,0,0]\n",
    "alpha = 0.001\n",
    "e = 2.71828\n",
    "\n",
    "def grad_desc(b):\n",
    "    \n",
    "    iter = 100\n",
    "    while(iter>0):\n",
    "\n",
    "        for i in range(len(xtrain)):\n",
    "            Y = (b[0] + b[1] * x1[i] + b[2] * x2[i])\n",
    "            pred = (1 / (1 + e**(-1*Y)))\n",
    "\n",
    "            b[0] = b[0] + alpha * (ytrain[i]-pred) * pred * (1-pred) * 1\n",
    "            b[1] = b[1] + alpha * (ytrain[i]-pred) * pred * (1-pred) * x1[i]\n",
    "            b[2] = b[2] + alpha * (ytrain[i]-pred) * pred * (1-pred) * x2[i]\n",
    "        iter-=1\n",
    "    \n",
    "    return b\n",
    "\n",
    "        "
   ]
  },
  {
   "cell_type": "code",
   "execution_count": 48,
   "id": "371827b0",
   "metadata": {},
   "outputs": [
    {
     "name": "stdout",
     "output_type": "stream",
     "text": [
      "[-0.10534152240831524, 0.6545574137311193, 0.54089902217481]\n"
     ]
    }
   ],
   "source": [
    "for i in range(5):\n",
    "    b = grad_desc(b)\n",
    "print(b)"
   ]
  },
  {
   "cell_type": "code",
   "execution_count": 49,
   "id": "dad9a5d4",
   "metadata": {},
   "outputs": [],
   "source": [
    "final_pred = []\n",
    "for i in range(len(xtest)):\n",
    "    Y1 = (b[0] + b[1] * x1test[i] + b[2] * x2test[i])\n",
    "    y_pred = (1 / (1 + e**(-1*Y1)))\n",
    "    #print(final_pred[i])\n",
    "    \n",
    "    if(y_pred>0.5):\n",
    "        final_pred.append(1)\n",
    "    else:\n",
    "        final_pred.append(0)\n"
   ]
  },
  {
   "cell_type": "code",
   "execution_count": 50,
   "id": "8f12584c",
   "metadata": {},
   "outputs": [
    {
     "name": "stdout",
     "output_type": "stream",
     "text": [
      "              precision    recall  f1-score   support\n",
      "\n",
      "           0       0.00      0.00      0.00         8\n",
      "           1       0.60      1.00      0.75        12\n",
      "\n",
      "    accuracy                           0.60        20\n",
      "   macro avg       0.30      0.50      0.37        20\n",
      "weighted avg       0.36      0.60      0.45        20\n",
      "\n"
     ]
    }
   ],
   "source": [
    "import warnings\n",
    "warnings.filterwarnings('ignore')\n",
    "\n",
    "\n",
    "from sklearn.metrics import classification_report\n",
    "print(classification_report(ytest,final_pred))"
   ]
  },
  {
   "cell_type": "code",
   "execution_count": null,
   "id": "04d9d4c2",
   "metadata": {},
   "outputs": [],
   "source": []
  }
 ],
 "metadata": {
  "kernelspec": {
   "display_name": "Python 3",
   "language": "python",
   "name": "python3"
  },
  "language_info": {
   "codemirror_mode": {
    "name": "ipython",
    "version": 3
   },
   "file_extension": ".py",
   "mimetype": "text/x-python",
   "name": "python",
   "nbconvert_exporter": "python",
   "pygments_lexer": "ipython3",
   "version": "3.8.8"
  }
 },
 "nbformat": 4,
 "nbformat_minor": 5
}
